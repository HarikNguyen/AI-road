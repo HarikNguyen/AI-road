{
 "cells": [
  {
   "cell_type": "markdown",
   "metadata": {},
   "source": [
    "# Vectors and spaces\n",
    "Vectors\n",
    "- Linear combinations and spans\n",
    "- Linear dependence and independence\n",
    "- Subspaces and the basis for a subspace\n",
    "- Vector dot and cross products\n",
    "- Matrices for solving systems by elimination\n",
    "- Null space and column space"
   ]
  }
 ],
 "metadata": {
  "kernelspec": {
   "display_name": "Python 3.10.6 64-bit",
   "language": "python",
   "name": "python3"
  },
  "language_info": {
   "name": "python",
   "version": "3.10.6"
  },
  "orig_nbformat": 4,
  "vscode": {
   "interpreter": {
    "hash": "916dbcbb3f70747c44a77c7bcd40155683ae19c65e1c03b4aa3499c5328201f1"
   }
  }
 },
 "nbformat": 4,
 "nbformat_minor": 2
}
