{
 "cells": [
  {
   "cell_type": "markdown",
   "metadata": {},
   "source": [
    "# Alternate coordinate systems (bases)\n",
    "- Orthogonal complements\n",
    "- Orthogonal projections\n",
    "- Change of basis\n",
    "- Orthonormal bases and the Gram-Schmidt process\n",
    "- Eigen-everything"
   ]
  }
 ],
 "metadata": {
  "language_info": {
   "name": "python"
  },
  "orig_nbformat": 4
 },
 "nbformat": 4,
 "nbformat_minor": 2
}
